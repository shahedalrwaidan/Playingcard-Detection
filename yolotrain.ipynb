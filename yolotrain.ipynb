{
 "cells": [
  {
   "cell_type": "code",
   "execution_count": 39,
   "id": "706ab269",
   "metadata": {},
   "outputs": [
    {
     "name": "stdout",
     "output_type": "stream",
     "text": [
      "['2c', '2d', '2h', '2s', '3c', '3d', '3h', '3s', '4c', '4d', '4h', '4s', '5c', '5d', '5h', '5s', '6c', '6d', '6h', '6s', '7c', '7d', '7h', '7s', '8c', '8d', '8h', '8s', '9c', '9d', '9h', '9s', 'Ac', 'Ad', 'Ah', 'As', 'Jc', 'Jd', 'Jh', 'Js', 'Kc', 'Kd', 'Kh', 'Ks', 'Qc', 'Qd', 'Qh', 'Qs', 'Tc', 'Td', 'Th', 'Ts']\n"
     ]
    }
   ],
   "source": [
    "cards=[\"2c\", \"3c\",\"4c\",\"5c\",\"6c\",\"7c\",\"8c\",\"9c\",\"Tc\",\"Jc\",\"Qc\",\"Kc\", \"Ac\",\n",
    "      \"Th\",\"2h\", \"3h\",\"4h\",\"Ah\",\"5h\",\"6h\",\"7h\",\"8h\",\"9h\",\"Kh\",\"Qh\",\"Jh\",\n",
    "      \"Ts\",\"2s\", \"3s\",\"4s\", \"As\",\"5s\",\"6s\",\"7s\",\"8s\",\"9s\",\"Ks\",\"Qs\",\"Js\",\n",
    "      \"Td\",\"2d\", \"3d\",\"4d\", \"Ad\",\"5d\",\"6d\",\"7d\",\"8d\",\"9d\",\"Kd\",\"Qd\",\"Jd\"]\n",
    "values=dict(zip('23456789TJQKA',cards))\n",
    "\n",
    "def sortkey(x):\n",
    "    value,suit=x\n",
    "    return values[value],suit\n",
    "\n",
    "print (sorted(cards,key = sortkey))"
   ]
  },
  {
   "cell_type": "code",
   "execution_count": 40,
   "id": "821d1f72",
   "metadata": {
    "scrolled": true
   },
   "outputs": [
    {
     "data": {
      "text/plain": [
       "{'2': '2c',\n",
       " '3': '3c',\n",
       " '4': '4c',\n",
       " '5': '5c',\n",
       " '6': '6c',\n",
       " '7': '7c',\n",
       " '8': '8c',\n",
       " '9': '9c',\n",
       " 'T': 'Tc',\n",
       " 'J': 'Jc',\n",
       " 'Q': 'Qc',\n",
       " 'K': 'Kc',\n",
       " 'A': 'Ac'}"
      ]
     },
     "execution_count": 40,
     "metadata": {},
     "output_type": "execute_result"
    }
   ],
   "source": [
    "values"
   ]
  },
  {
   "cell_type": "code",
   "execution_count": 91,
   "id": "f5df310f",
   "metadata": {},
   "outputs": [
    {
     "name": "stdout",
     "output_type": "stream",
     "text": [
      "['2c', '2d', '2h', '2s', '3c', '3d', '3h', '3s', '4c', '4d', '4h', '4s', '5c', '5d', '5h', '5s', '6c', '6d', '6h', '6s', '7c', '7d', '7h', '7s', '8c', '8d', '8h', '8s', '9c', '9d', '9h', '9s', 'Ac', 'Ad', 'Ah', 'As', 'Jc', 'Jd', 'Jh', 'Js', 'Kc', 'Kd', 'Kh', 'Ks', 'Qc', 'Qd', 'Qh', 'Qs', 'Tc', 'Td', 'Th', 'Ts']\n",
      "['2c', '3c', '4c', '5c', '6c', '7c', '8c', '9c', 'Tc', 'Jc', 'Qc', 'Kc', 'Ac', 'Td', '2d', '3d', '4d', 'Ad', '5d', '6d', '7d', '8d', '9d', 'Kd', 'Qd', 'Jd', 'Th', '2h', '3h', '4h', 'Ah', '5h', '6h', '7h', '8h', '9h', 'Kh', 'Qh', 'Jh', 'Ts', '2s', '3s', '4s', 'As', '5s', '6s', '7s', '8s', '9s', 'Ks', 'Qs', 'Js']\n"
     ]
    }
   ],
   "source": [
    "import operator\n",
    "\n",
    "cards=[\"2c\", \"3c\",\"4c\",\"5c\",\"6c\",\"7c\",\"8c\",\"9c\",\"Tc\",\"Jc\",\"Qc\",\"Kc\", \"Ac\",\n",
    "      \"Th\",\"2h\", \"3h\",\"4h\",\"Ah\",\"5h\",\"6h\",\"7h\",\"8h\",\"9h\",\"Kh\",\"Qh\",\"Jh\",\n",
    "      \"Ts\",\"2s\", \"3s\",\"4s\", \"As\",\"5s\",\"6s\",\"7s\",\"8s\",\"9s\",\"Ks\",\"Qs\",\"Js\",\n",
    "      \"Td\",\"2d\", \"3d\",\"4d\", \"Ad\",\"5d\",\"6d\",\"7d\",\"8d\",\"9d\",\"Kd\",\"Qd\",\"Jd\"]\n",
    "\n",
    "# sort by first character in each card\n",
    "print (sorted(cards))\n",
    "# sort by second character (index=1) in each card\n",
    "print (sorted(cards, key=operator.itemgetter(1)))"
   ]
  },
  {
   "cell_type": "code",
   "execution_count": null,
   "id": "f190cda8",
   "metadata": {},
   "outputs": [],
   "source": []
  },
  {
   "cell_type": "code",
   "execution_count": 87,
   "id": "dc8c6a87",
   "metadata": {
    "collapsed": true
   },
   "outputs": [
    {
     "name": "stdout",
     "output_type": "stream",
     "text": [
      "Not tarneeb\n",
      "Not tarneeb\n",
      "Not tarneeb\n",
      "Not tarneeb\n",
      "Not tarneeb\n",
      "Not tarneeb\n",
      "Not tarneeb\n",
      "Not tarneeb\n",
      "Not tarneeb\n",
      "Not tarneeb\n",
      "Not tarneeb\n",
      "Not tarneeb\n",
      "Not tarneeb\n"
     ]
    }
   ],
   "source": [
    "cards=[\"2c\", \"3c\",\"4c\",\"5c\",\"6c\",\"7c\",\"8c\",\"9c\",\"Tc\",\"Jc\",\"Qc\",\"Kc\", \"Ac\",\n",
    "      \"Th\",\"2h\", \"3h\",\"4h\",\"Ah\",\"5h\",\"6h\",\"7h\",\"8h\",\"9h\",\"Kh\",\"Qh\",\"Jh\",\n",
    "      \"Ts\",\"2s\", \"3s\",\"4s\", \"As\",\"5s\",\"6s\",\"7s\",\"8s\",\"9s\",\"Ks\",\"Qs\",\"Js\",\n",
    "      \"Td\",\"2d\", \"3d\",\"4d\", \"Ad\",\"5d\",\"6d\",\"7d\",\"8d\",\"9d\",\"Kd\",\"Qd\",\"Jd\"]\n",
    "x=[\"Td\",\"2d\", \"3d\",\"4d\", \"Ad\",\"5d\",\"6d\",\"7d\",\"8d\",\"9d\",\"Kd\",\"Qd\",\"Jd\"]\n",
    "valuesD=dict(zip('23456789TJQKA',cards))\n"
   ]
  },
  {
   "cell_type": "code",
   "execution_count": 88,
   "id": "b2a03079",
   "metadata": {},
   "outputs": [
    {
     "data": {
      "text/plain": [
       "{'2': 'Th',\n",
       " '3': '2h',\n",
       " '4': '3h',\n",
       " '5': '4h',\n",
       " '6': 'Ah',\n",
       " '7': '5h',\n",
       " '8': '6h',\n",
       " '9': '7h',\n",
       " 'T': '8h',\n",
       " 'J': '9h',\n",
       " 'Q': 'Kh',\n",
       " 'K': 'Qh',\n",
       " 'A': 'Jh'}"
      ]
     },
     "execution_count": 88,
     "metadata": {},
     "output_type": "execute_result"
    }
   ],
   "source": [
    "valuesD\n"
   ]
  },
  {
   "cell_type": "code",
   "execution_count": 83,
   "id": "5e2787e9",
   "metadata": {},
   "outputs": [
    {
     "name": "stdout",
     "output_type": "stream",
     "text": [
      "2\n",
      "3\n",
      "4\n"
     ]
    },
    {
     "ename": "ValueError",
     "evalue": "invalid literal for int() with base 10: 'T'",
     "output_type": "error",
     "traceback": [
      "\u001b[1;31m---------------------------------------------------------------------------\u001b[0m",
      "\u001b[1;31mValueError\u001b[0m                                Traceback (most recent call last)",
      "Input \u001b[1;32mIn [83]\u001b[0m, in \u001b[0;36m<cell line: 1>\u001b[1;34m()\u001b[0m\n\u001b[0;32m      1\u001b[0m \u001b[38;5;28;01mfor\u001b[39;00m i \u001b[38;5;129;01min\u001b[39;00m valuesD\u001b[38;5;241m.\u001b[39mkeys():\n\u001b[1;32m----> 2\u001b[0m     \u001b[38;5;28;01mif\u001b[39;00m \u001b[38;5;28;43mint\u001b[39;49m\u001b[43m(\u001b[49m\u001b[43mi\u001b[49m\u001b[43m)\u001b[49m \u001b[38;5;241m<\u001b[39m \u001b[38;5;241m5\u001b[39m:\n\u001b[0;32m      3\u001b[0m          \u001b[38;5;28mprint\u001b[39m(i)\n",
      "\u001b[1;31mValueError\u001b[0m: invalid literal for int() with base 10: 'T'"
     ]
    }
   ],
   "source": [
    "for i in valuesD.keys():\n",
    "    if int(i) < 5:\n",
    "         print(i)"
   ]
  },
  {
   "cell_type": "code",
   "execution_count": 70,
   "id": "f40df59f",
   "metadata": {},
   "outputs": [
    {
     "data": {
      "text/plain": [
       "{'2': 'Td',\n",
       " '3': '2d',\n",
       " '4': '3d',\n",
       " '5': '4d',\n",
       " '6': 'Ad',\n",
       " '7': '5d',\n",
       " '8': '6d',\n",
       " '9': '7d',\n",
       " 'T': '8d',\n",
       " 'J': '9d',\n",
       " 'Q': 'Kd',\n",
       " 'K': 'Qd',\n",
       " 'A': 'Jd'}"
      ]
     },
     "execution_count": 70,
     "metadata": {},
     "output_type": "execute_result"
    }
   ],
   "source": [
    "values"
   ]
  },
  {
   "cell_type": "code",
   "execution_count": 134,
   "id": "59fa452c",
   "metadata": {
    "scrolled": true
   },
   "outputs": [
    {
     "data": {
      "text/plain": [
       "{'2': '2c',\n",
       " '3': '3c',\n",
       " '4': '4c',\n",
       " '5': '5c',\n",
       " '6': '6c',\n",
       " '7': '7c',\n",
       " '8': '8c',\n",
       " '9': '9c',\n",
       " 'T': '10c',\n",
       " 'J': 'Jc',\n",
       " 'Q': 'Qc',\n",
       " 'K': 'Kc',\n",
       " 'A': 'Ac'}"
      ]
     },
     "execution_count": 134,
     "metadata": {},
     "output_type": "execute_result"
    }
   ],
   "source": [
    "card = [\"2c\", \"3c\",\"4c\",\"5c\",\"6c\",\"7c\",\"8c\",\"9c\",\"10c\",\"Jc\",\"Qc\",\"Kc\", \"Ac\"]\n",
    "values=dict(zip('23456789TJQKA',card))\n",
    "values"
   ]
  },
  {
   "cell_type": "code",
   "execution_count": 181,
   "id": "8bc76812",
   "metadata": {},
   "outputs": [
    {
     "data": {
      "text/plain": [
       "['Ac', 'Jc', 'Kc', 'Qc']"
      ]
     },
     "execution_count": 181,
     "metadata": {},
     "output_type": "execute_result"
    }
   ],
   "source": [
    "l = []\n",
    "f1 = 'Jc'\n",
    "f2 = 'Kc'\n",
    "f3 = 'Ac'\n",
    "f4 = 'Qc'\n",
    "l.append(f1)\n",
    "l.append(f2)\n",
    "l.append(f3)\n",
    "l.append(f4) \n",
    "l.sort()\n",
    "l "
   ]
  },
  {
   "cell_type": "code",
   "execution_count": 204,
   "id": "4cd7382d",
   "metadata": {},
   "outputs": [
    {
     "name": "stdout",
     "output_type": "stream",
     "text": [
      "1st: 9\n",
      "2st: 12\n",
      "3st: 13\n",
      "4st: 14\n"
     ]
    },
    {
     "data": {
      "text/plain": [
       "['12', '13', '14', '9']"
      ]
     },
     "execution_count": 204,
     "metadata": {},
     "output_type": "execute_result"
    }
   ],
   "source": [
    "card = [\"2c\", \"3c\",\"4c\",\"5c\",\"6c\",\"7c\",\"8c\",\"9c\",\"10c\",\"Jc\",\"Qc\",\"Kc\", \"Ac\"]\n",
    "num = [2, 3, 4, 5, 6, 7, 8, 9, 10, 11, 12, 13, 14]\n",
    "f = input(\"1st: \")\n",
    "s = input(\"2st: \")\n",
    "t = input(\"3st: \")\n",
    "fo = input(\"4st: \")\n",
    "l = []\n",
    "l.append(f)\n",
    "l.append(s)\n",
    "l.append(t)\n",
    "l.append(fo) \n",
    "l.sort()\n",
    "l"
   ]
  },
  {
   "cell_type": "code",
   "execution_count": 215,
   "id": "89f6468d",
   "metadata": {},
   "outputs": [
    {
     "name": "stdout",
     "output_type": "stream",
     "text": [
      "[(2, 'c'), (3, 'c'), (4, 'c'), (5, 'c'), (6, 'c'), (7, 'c'), (8, 'c'), (9, 'c'), (10, 'c'), (11, 'c'), (12, 'c'), (13, 'c'), (14, 'c')]\n"
     ]
    }
   ],
   "source": [
    "num = [2, 3, 4, 5, 6, 7, 8, 9, 10, 11, 12, 13, 14]\n",
    "kind = ['c', 'c', 'c', 'c', 'c', 'c', 'c', 'c', 'c', 'c', 'c', 'c', 'c', ]\n",
    "\n",
    "x = zip(num, kind)\n",
    "print(list(x))"
   ]
  },
  {
   "cell_type": "code",
   "execution_count": 216,
   "id": "4a5fb0b8",
   "metadata": {},
   "outputs": [],
   "source": [
    "d = '3c'"
   ]
  },
  {
   "cell_type": "code",
   "execution_count": 223,
   "id": "f07f4358",
   "metadata": {},
   "outputs": [
    {
     "data": {
      "text/plain": [
       "dict_values(['2c', '3c', '4c', '5c', '6c', '7c', '8c', '9c', '10c', 'Jc', 'Qc', 'Kc', 'Ac'])"
      ]
     },
     "execution_count": 223,
     "metadata": {},
     "output_type": "execute_result"
    }
   ],
   "source": [
    "C = {'2': '2c',\n",
    " '3': '3c',\n",
    " '4': '4c',\n",
    " '5': '5c',\n",
    " '6': '6c',\n",
    " '7': '7c',\n",
    " '8': '8c',\n",
    " '9': '9c',\n",
    " '10': '10c',\n",
    " '11': 'Jc',\n",
    " '12': 'Qc',\n",
    " '13': 'Kc',\n",
    " '14': 'Ac'}"
   ]
  },
  {
   "cell_type": "code",
   "execution_count": 118,
   "id": "09ade2d2",
   "metadata": {
    "scrolled": true
   },
   "outputs": [
    {
     "name": "stdout",
     "output_type": "stream",
     "text": [
      "Enter tarneeb: d\n",
      "d\n",
      "1st: 5d\n",
      "2st: 7d\n",
      "3st: 9d\n",
      "4st: Ad\n",
      "Forth  player is winner : Ad\n",
      "Time:  0.0013222694396972656\n"
     ]
    }
   ],
   "source": [
    "import time \n",
    "\n",
    "c_list=[\"10c\",\"2c\", \"3c\",\"4c\", \"Ac\",\"5c\",\"6c\",\"7c\",\"8c\",\"9c\",\"Kc\",\"Qc\",\"Jc\"]\n",
    "h_list=[\"10h\",\"2h\", \"3h\",\"4h\",\"Ah\",\"5h\",\"6h\",\"7h\",\"8h\",\"9h\",\"Kh\",\"Qh\",\"Jh\"]\n",
    "s_list=[\"10s\",\"2s\", \"3s\",\"4s\", \"As\",\"5s\",\"6s\",\"7s\",\"8s\",\"9s\",\"Ks\",\"Qs\",\"Js\"]\n",
    "d_list=[\"10d\",\"2d\", \"3d\",\"4d\", \"Ad\",\"5d\",\"6d\",\"7d\",\"8d\",\"9d\",\"Kd\",\"Qd\",\"Jd\"]\n",
    "\n",
    "C = {2: '2c',3: '3c',4: '4c',5: '5c',6: '6c',7: '7c',8: '8c',9: '9c',10: '10c',11: 'Jc',12: 'Qc',13: 'Kc',14: 'Ac'}\n",
    "H = {2: '2h',3: '3h',4: '4h',5: '5h',6: '6h',7: '7h',8: '8h',9: '9h',10: '10h',11: 'Jh',12: 'Qh',13: 'Kh',14: 'Ah'}\n",
    "S = {2: '2s',3: '3s',4: '4s',5: '5s',6: '6s',7: '7s',8: '8s',9: '9s',10: '10s',11: 'Js',12: 'Qs',13: 'Ks',14: 'As'}\n",
    "D = {2: '2d',3: '3d',4: '4d',5: '5d',6: '6d',7: '7d',8: '8d',9: '9d',10: '10d',11: 'Jd',12: 'Qd',13: 'Kd',14: 'Ad'}\n",
    "\n",
    "tarneeb = str(input(\"Enter tarneeb: \"))[-1]\n",
    "print(tarneeb)\n",
    "\n",
    "f = str(input(\"1st: \"))\n",
    "s = str(input(\"2st: \"))\n",
    "t = str(input(\"3st: \"))\n",
    "fo = str(input(\"4st: \"))\n",
    "\n",
    "start = time.time()\n",
    "#***********************************\n",
    "if f in c_list:\n",
    "    for key, value in C.items(): \n",
    "        if value == f:\n",
    "            f_key = key\n",
    "            game_color = f[-1]    \n",
    "elif f in h_list:\n",
    "     for key, value in H.items(): \n",
    "        if value == f:\n",
    "            f_key = key\n",
    "            game_color = f[-1]    \n",
    "              \n",
    "elif f in s_list:\n",
    "     for key, value in S.items(): \n",
    "        if value == f:\n",
    "            f_key = key\n",
    "            game_color = f[-1]    \n",
    "\n",
    "            \n",
    "elif f in d_list:\n",
    "     for key, value in D.items(): \n",
    "        if value == f:\n",
    "            f_key = key\n",
    "            game_color = f[-1]  \n",
    "    \n",
    "#******************************************\n",
    "if s in c_list:\n",
    "    for key, value in C.items(): \n",
    "        if value == s:\n",
    "            s_key = key\n",
    "              \n",
    "elif s in h_list:\n",
    "     for key, value in H.items(): \n",
    "        if value == s:\n",
    "            s_key = key\n",
    "              \n",
    "elif s in s_list:\n",
    "     for key, value in S.items(): \n",
    "        if value == s:\n",
    "            s_key = key\n",
    "            \n",
    "elif s in d_list:\n",
    "     for key, value in D.items(): \n",
    "        if value == s:\n",
    "            s_key = key\n",
    "#******************************************\n",
    "if t in c_list:\n",
    "    for key, value in C.items(): \n",
    "        if value == t:\n",
    "            t_key = key\n",
    "              \n",
    "elif t in h_list:\n",
    "     for key, value in H.items(): \n",
    "        if value == t:\n",
    "            t_key = key\n",
    "              \n",
    "elif t in s_list:\n",
    "     for key, value in S.items(): \n",
    "        if value == t:\n",
    "            t_key = key\n",
    "            \n",
    "elif t in d_list:\n",
    "     for key, value in D.items(): \n",
    "        if value == t:\n",
    "            t_key = key\n",
    "#******************************************\n",
    "if fo in c_list:\n",
    "    for key, value in C.items(): \n",
    "        if value == fo:\n",
    "            fo_key = key\n",
    "              \n",
    "elif fo in h_list:\n",
    "     for key, value in H.items(): \n",
    "        if value == fo:\n",
    "            fo_key = key\n",
    "              \n",
    "elif fo in s_list:\n",
    "     for key, value in S.items(): \n",
    "        if value == fo:\n",
    "            fo_key = key\n",
    "            \n",
    "elif fo in d_list:\n",
    "     for key, value in D.items(): \n",
    "        if value == fo:\n",
    "            fo_key = key\n",
    "#*****************************************\n",
    "# if(f[-1] != tarneeb) and (s[-1] != tarneeb) and (t[-1] != tarneeb) and (fo[-1] != tarneeb):\n",
    "if (f[-1] == tarneeb) and (s[-1] != tarneeb) and (t[-1] != tarneeb) and (fo[-1] != tarneeb):\n",
    "    print(\"First player is winner :\", f)\n",
    "    \n",
    "elif (f[-1] != tarneeb) and (s[-1] == tarneeb) and (t[-1] != tarneeb) and (fo[-1] != tarneeb):\n",
    "    print(\"Second player is winner :\", s)\n",
    "    \n",
    "elif (f[-1] != tarneeb) and (s[-1] != tarneeb) and (t[-1] == tarneeb) and (fo[-1] != tarneeb):\n",
    "    print(\"Third player is winner :\", t)\n",
    "    \n",
    "elif (f[-1] != tarneeb) and (s[-1] != tarneeb) and (t[-1] != tarneeb) and (fo[-1] == tarneeb):\n",
    "    print(\"Forth player is winner :\", fo)\n",
    "\n",
    "elif (f[-1] == tarneeb) and (s[-1] == tarneeb) and (t[-1] != tarneeb) and (fo[-1] != tarneeb):\n",
    "    if (f_key > s_key):\n",
    "        print(\"First player is winner :\", f)\n",
    "    else:\n",
    "        print(\"Second player is winner :\", s)\n",
    "        \n",
    "elif ((f[-1] == tarneeb) and (t[-1] == tarneeb) and (s[-1] != tarneeb) and (fo[-1] != tarneeb)):\n",
    "    if (f_key > t_key):\n",
    "        print(\"First player is winner :\", f)\n",
    "    else:\n",
    "        print(\"Third player is winner :\", t)\n",
    "elif ((f[-1] == tarneeb) and (fo[-1] == tarneeb) and (s[-1] != tarneeb) and (t[-1] != tarneeb)):\n",
    "    if (f_key > fo_key):\n",
    "        print(\"First player is winner :\", f)\n",
    "    else:\n",
    "        print(\"Forth  player is winner :\", fo)\n",
    "elif ((s[-1] == tarneeb) and (t[-1] == tarneeb) and (f[-1] != tarneeb) and (fo[-1] != tarneeb)):\n",
    "    if s_key > t_key: \n",
    "        print(\"Second player is winner :\", s)\n",
    "    else:\n",
    "            print(\"Third player is winner :\", t)\n",
    "elif ((s[-1] == tarneeb) and (fo[-1] == tarneeb) and (f[-1] != tarneeb) and (t[-1] != tarneeb)):\n",
    "    if (s_key > fo_key):\n",
    "        print(\"Second player is winner :\", s)\n",
    "    else:\n",
    "        print(\"Forth player is winner :\", fo) \n",
    "elif ((t[-1] == tarneeb) and (fo[-1] == tarneeb) and (f[-1] != tarneeb) and (s[-1] != tarneeb)):\n",
    "    if (t_key > fo_key):\n",
    "        print(\"Third player is winner :\", t)\n",
    "    else:\n",
    "        print(\"Forth player is winner :\", fo)\n",
    "\n",
    "#***************************************************\n",
    "elif (s[-1] != game_color) and (t[-1] != game_color) and (fo[-1] != game_color):\n",
    "    print('First Player is winner! :', f)\n",
    "    #print(\"game\", game_color)\n",
    "\n",
    "\n",
    "elif (s[-1] == game_color)and (t[-1] != game_color)and (fo[-1] != game_color):\n",
    "    if f_key > s_key:\n",
    "         print(\"First player is winner :\", f)\n",
    "    else:\n",
    "         print(\"Second player is winner :\", s)\n",
    "\n",
    "elif (t[-1] == game_color)and (s[-1] != game_color)and (fo[-1] != game_color):\n",
    "    if f_key > t_key:\n",
    "         print(\"First player is winner :\", f)\n",
    "    else:\n",
    "         print(\"Third player is winner :\", t)\n",
    "\n",
    "elif (fo[-1] == game_color)and (s[-1] != game_color)and (t[-1] != game_color):\n",
    "    if f_key > fo_key:\n",
    "         print(\"First player is winner :\", f)\n",
    "    else:\n",
    "         print(\"Forth player is winner :\", fo)\n",
    "\n",
    "elif (s[-1] == game_color) and (t[-1] == game_color) and (fo[-1] != game_color):\n",
    "    if (f_key > s_key) and (f_key > t_key):\n",
    "         print(\"First player is winner :\", f)\n",
    "    elif (s_key > f_key) and (s_key > t_key):\n",
    "         print(\"Second player is winner :\", s)\n",
    "    elif (t_key > f_key) and (t_key > s_key):\n",
    "         print(\"Third player is winner :\", t)\n",
    "\n",
    "elif (s[-1] == game_color) and (fo[-1] == game_color)and (t[-1] != game_color):\n",
    "    if (f_key > s_key) and (f_key > fo_key):\n",
    "         print(\"First player is winner :\", f)\n",
    "    elif (s_key > f_key) and (s_key > fo_key):\n",
    "         print(\"Second player is winner :\", s)\n",
    "    elif (fo_key > f_key) and (fo_key > s_key):\n",
    "         print(\"Forth player is winner :\", fo)\n",
    "\n",
    "elif (t[-1] == game_color) and (fo[-1] == game_color)and (s[-1] != game_color):\n",
    "    if (f_key > t_key) and (f_key > fo_key):\n",
    "         print(\"First player is winner :\", f)\n",
    "    elif (t_key > f_key) and (t_key > fo_key):\n",
    "         print(\"Third player is winner :\", t)\n",
    "    elif (fo_key > f_key) and (fo_key > t_key):\n",
    "         print(\"Forth player is winner :\", fo)        \n",
    "\n",
    "\n",
    "elif (s[-1] == game_color) and (t[-1] == game_color) and (fo[-1] == game_color):\n",
    "    if (f_key > s_key) and (f_key > t_key) and (f_key > fo_key):\n",
    "        print(\"First player is winner :\", f)\n",
    "    elif (s_key > f_key) and (s_key > t_key) and (s_key > fo_key):\n",
    "         print(\"Second player is winner :\", s)\n",
    "    elif (t_key > f_key) and (t_key > s_key) and (t_key > fo_key):\n",
    "        print(\"Third player is winner :\", t)\n",
    "    elif (fo_key > f_key) and (fo_key > s_key) and (fo_key > t_key):\n",
    "        print(\"Forth  player is winner :\", fo)\n",
    "        \n",
    "end = time.time()\n",
    "\n",
    "print(\"Time: \", end - start)\n"
   ]
  },
  {
   "cell_type": "code",
   "execution_count": null,
   "id": "ed70f98b",
   "metadata": {},
   "outputs": [],
   "source": [
    "\n",
    "# AllEnputs = (f, s, t, fo)\n",
    "# AllNum = [f_key, s_key, t_key, fo_key]\n",
    "# print(\"The Inputs are : \" , AllEnputs)\n",
    "# if f_key > s_key and f_key > t_key and f_key > fo_key:\n",
    "#      print(\"First player is winner :\", f)\n",
    "# elif s_key > f_key and s_key > t_key and s_key > fo_key:\n",
    "#      print(\"Second player is winner :\", s)\n",
    "# elif t_key > f_key and t_key > s_key and t_key > fo_key:\n",
    "#     print(\"Third player is winner :\", t)\n",
    "# elif fo_key > f_key and fo_key > s_key and fo_key > t_key:\n",
    "#     print(\"Forth  player is winner :\", fo)\n",
    "#********************************************\n",
    "\n",
    "    \n",
    "# elif (f[-1] != tarneeb) or (s[-1] != game_color) or (t[-1] != tarneeb) or (fo[-1] != tarneeb):\n",
    "#     AllEnputs = (f, s, t, fo)\n",
    "#     AllNum = [f_key, s_key, t_key, fo_key]\n",
    "#     print(\"The Inputs are : \" , AllEnputs)\n",
    "#     if f_key > s_key and f_key > t_key and f_key > fo_key:\n",
    "#          print(\"First player is winner :\", f)\n",
    "#     elif s_key > f_key and s_key > t_key and s_key > fo_key:\n",
    "#          print(\"Second player is winner :\", s)\n",
    "#     elif t_key > f_key and t_key > s_key and t_key > fo_key:5\n",
    "#         print(\"Third player is winner :\", t)\n",
    "#     elif fo_key > f_key and fo_key > s_key and fo_key > t_key:\n",
    "#         print(\"Fo3rth  player is winner :\", fo)\n",
    "#*****************************************************"
   ]
  },
  {
   "cell_type": "code",
   "execution_count": 61,
   "id": "c53c4926",
   "metadata": {},
   "outputs": [
    {
     "name": "stdout",
     "output_type": "stream",
     "text": [
      "Enter tarneeb: s\n",
      "<class 'str'>\n",
      "s\n",
      "1st: 5s\n",
      "2st: 6s\n",
      "3st: 5d3\n",
      "4st: 6d\n"
     ]
    }
   ],
   "source": [
    "C = {2: '2c',3: '3c',4: '4c',5: '5c',6: '6c',7: '7c',8: '8c',9: '9c',10: '10c',11: 'Jc',12: 'Qc',13: 'Kc',14: 'Ac'}\n",
    "H = {2: '2h',3: '3h',4: '4h',5: '5h',6: '6h',7: '7h',8: '8h',9: '9h',10: '10h',11: 'Jh',12: 'Qh',13: 'Kh',14: 'Ah'}\n",
    "S = {2: '2s',3: '3s',4: '4s',5: '5s',6: '6s',7: '7s',8: '8s',9: '9s',10: '10s',11: 'Js',12: 'Qs',13: 'Ks',14: 'As'}\n",
    "D = {2: '2d',3: '3d',4: '4d',5: '5d',6: '6d',7: '7d',8: '8d',9: '9d',10: '10d',11: 'Jd',12: 'Qd',13: 'Kd',14: 'Ad'}\n",
    "\n",
    "tarneeb = input(\"Enter tarneeb: \")[-1]\n",
    "print(type(tarneeb))\n",
    "print(tarneeb)\n",
    "\n",
    "f = input(\"1st: \")\n",
    "s = input(\"2st: \")\n",
    "t = input(\"3st: \")\n",
    "fo = input(\"4st: \")\n",
    "\n",
    "# l = [f, s, t, fo]\n",
    "# d_list = []\n",
    "# for i in l:\n",
    "#     if i[-1] == tarneeb:\n",
    "#         d_list.append(i)\n",
    "# for i in d_list:\n",
    "#     if i.upper() == \"S\":\n",
    "t_list = []\n",
    "if f[-1] == tarneeb:\n",
    "    t_list.append(i)"
   ]
  },
  {
   "cell_type": "code",
   "execution_count": null,
   "id": "63f86bdc",
   "metadata": {},
   "outputs": [],
   "source": []
  },
  {
   "cell_type": "code",
   "execution_count": null,
   "id": "3929360a",
   "metadata": {},
   "outputs": [],
   "source": []
  },
  {
   "cell_type": "code",
   "execution_count": null,
   "id": "c8c306e8",
   "metadata": {},
   "outputs": [],
   "source": []
  },
  {
   "cell_type": "code",
   "execution_count": null,
   "id": "f2464e8d",
   "metadata": {},
   "outputs": [],
   "source": []
  },
  {
   "cell_type": "code",
   "execution_count": null,
   "id": "54137212",
   "metadata": {},
   "outputs": [],
   "source": []
  },
  {
   "cell_type": "code",
   "execution_count": null,
   "id": "2976519b",
   "metadata": {},
   "outputs": [],
   "source": []
  },
  {
   "cell_type": "code",
   "execution_count": null,
   "id": "5b600a45",
   "metadata": {},
   "outputs": [],
   "source": []
  },
  {
   "cell_type": "code",
   "execution_count": null,
   "id": "aa024a8f",
   "metadata": {},
   "outputs": [],
   "source": []
  },
  {
   "cell_type": "code",
   "execution_count": null,
   "id": "3178bf26",
   "metadata": {},
   "outputs": [],
   "source": []
  },
  {
   "cell_type": "code",
   "execution_count": null,
   "id": "8bccc6f3",
   "metadata": {},
   "outputs": [],
   "source": []
  },
  {
   "cell_type": "code",
   "execution_count": null,
   "id": "aa355da6",
   "metadata": {},
   "outputs": [],
   "source": []
  }
 ],
 "metadata": {
  "kernelspec": {
   "display_name": "Python 3 (ipykernel)",
   "language": "python",
   "name": "python3"
  },
  "language_info": {
   "codemirror_mode": {
    "name": "ipython",
    "version": 3
   },
   "file_extension": ".py",
   "mimetype": "text/x-python",
   "name": "python",
   "nbconvert_exporter": "python",
   "pygments_lexer": "ipython3",
   "version": "3.10.6"
  }
 },
 "nbformat": 4,
 "nbformat_minor": 5
}
